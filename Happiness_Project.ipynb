{
 "cells": [
  {
   "cell_type": "code",
   "execution_count": 18,
   "id": "be89f161",
   "metadata": {
    "scrolled": true
   },
   "outputs": [
    {
     "name": "stdout",
     "output_type": "stream",
     "text": [
      "         Country                           Region  Happiness Rank  \\\n",
      "0    Switzerland                   Western Europe               1   \n",
      "1        Iceland                   Western Europe               2   \n",
      "2        Denmark                   Western Europe               3   \n",
      "3         Norway                   Western Europe               4   \n",
      "4         Canada                    North America               5   \n",
      "..           ...                              ...             ...   \n",
      "149       Rwanda               Sub-Saharan Africa             154   \n",
      "150        Benin               Sub-Saharan Africa             155   \n",
      "151        Syria  Middle East and Northern Africa             156   \n",
      "152      Burundi               Sub-Saharan Africa             157   \n",
      "153         Togo               Sub-Saharan Africa             158   \n",
      "\n",
      "     Happiness Score  GDP Per Capita   Family  Health (Life Expectancy)  \\\n",
      "0              7.587         1.39651  1.34951                   0.94143   \n",
      "1              7.561         1.30232  1.40223                   0.94784   \n",
      "2              7.527         1.32548  1.36058                   0.87464   \n",
      "3              7.522         1.45900  1.33095                   0.88521   \n",
      "4              7.427         1.32629  1.32261                   0.90563   \n",
      "..               ...             ...      ...                       ...   \n",
      "149            3.465         0.22208  0.77370                   0.42864   \n",
      "150            3.340         0.28665  0.35386                   0.31910   \n",
      "151            3.006         0.66320  0.47489                   0.72193   \n",
      "152            2.905         0.01530  0.41587                   0.22396   \n",
      "153            2.839         0.20868  0.13995                   0.28443   \n",
      "\n",
      "     Freedom  Trust (Government Corruption)  Generosity  Dystopia Residual  \n",
      "0    0.66557                        0.41978     0.29678            2.51738  \n",
      "1    0.62877                        0.14145     0.43630            2.70201  \n",
      "2    0.64938                        0.48357     0.34139            2.49204  \n",
      "3    0.66973                        0.36503     0.34699            2.46531  \n",
      "4    0.63297                        0.32957     0.45811            2.45176  \n",
      "..       ...                            ...         ...                ...  \n",
      "149  0.59201                        0.55191     0.22628            0.67042  \n",
      "150  0.48450                        0.08010     0.18260            1.63328  \n",
      "151  0.15684                        0.18906     0.47179            0.32858  \n",
      "152  0.11850                        0.10062     0.19727            1.83302  \n",
      "153  0.36453                        0.10731     0.16681            1.56726  \n",
      "\n",
      "[154 rows x 11 columns]\n"
     ]
    }
   ],
   "source": [
    "import pandas as pd\n",
    "import numpy as np\n",
    "import matplotlib.pyplot as plt\n",
    "dataset = pd.read_csv('dataset_world_happiness.csv')\n",
    "# break up data by years\n",
    "def separateYears(data,year):\n",
    "    if(year>2015):\n",
    "        return data.loc[data['Year']==year].reset_index()\n",
    "        #print(data)\n",
    "        #data.drop('index', inplace=True, axis=1)\n",
    "    else:\n",
    "        return data.loc[data['Year']==year]\n",
    "# Separating by Year\n",
    "dataset_2015 = separateYears(dataset, 2015) \n",
    "dataset_2015.pop('Year')\n",
    "dataset_2016 = separateYears(dataset,2016)\n",
    "dataset_2016.drop('index', inplace=True, axis=1)\n",
    "dataset_2016.pop('Year')\n",
    "dataset_2017 = separateYears(dataset,2017)\n",
    "dataset_2017.drop('index', inplace=True, axis=1)\n",
    "dataset_2017.pop('Year')\n",
    "dataset_2018 = separateYears(dataset,2018)\n",
    "dataset_2018.pop('Year')\n",
    "dataset_2018.drop('index', inplace=True, axis=1)\n",
    "dataset_2018.Country.fillna(dataset_2018.Region, inplace=True)\n",
    "dataset_2019 = separateYears(dataset,2019)\n",
    "dataset_2019.drop('index', inplace=True, axis=1)\n",
    "dataset_2019.pop('Year')\n",
    "dataset_2019.Country.fillna(dataset_2019.Region, inplace=True)\n",
    "temp = pd.merge(dataset_2015, dataset_2016, on = 'Country')\n",
    "temp.rename(columns = {'Region_x' : 'Region',\n",
    "                      'Happiness Rank_x' : 'Happiness Rank_2015',\n",
    "                      'Happiness Score_x' : 'Happiness Score_2015',\n",
    "                      'GDP Per Capita_x':'GDP Per Capita_2015',\n",
    "                      'Family_x':'Family_2015',\n",
    "                      'Health (Life Expectancy)_x':'Health (Life Expectancy)_2015',\n",
    "                      'Freedom_x':'Freedom_2015',\n",
    "                      'Trust (Government Corruption)_x':'Trust (Government Corruption)_2015',\n",
    "                      'Generosity_x':'Generosity_2015',\n",
    "                      'Dystopia Residual_x':'Dystopia Residual_2015',\n",
    "                      'Region_y' : 'Region_2016',\n",
    "                      'Happiness Rank_y' : 'Happiness Rank_2016',\n",
    "                      'Happiness Score_y' : 'Happiness Score_2016',\n",
    "                      'GDP Per Capita_y':'GDP Per Capita_2016',\n",
    "                      'Family_y':'Family_2016',\n",
    "                      'Health (Life Expectancy)_y':'Health (Life Expectancy)_2016',\n",
    "                      'Freedom_y':'Freedom_2016',\n",
    "                      'Trust (Government Corruption)_y':'Trust (Government Corruption)_2016',\n",
    "                      'Generosity_y':'Generosity_2016',\n",
    "                      'Dystopia Residual_y':'Dystopia Residual_2016'}, inplace = True)\n",
    "temp2 = pd.merge(temp, dataset_2017,on = 'Country')\n",
    "temp2.drop('Region_y', inplace =True, axis =1)\n",
    "temp3 = pd.merge(temp2, dataset_2018,on = 'Country')\n",
    "temp3.drop('Region', inplace =True, axis =1)\n",
    "temp3.drop('Region_2016', inplace =True, axis =1)\n",
    "temp3.rename(columns = {'Happiness Rank_x' : 'Happiness Rank_2017',\n",
    "                      'Happiness Score_x' : 'Happiness Score_2017',\n",
    "                      'GDP Per Capita_x':'GDP Per Capita_2017',\n",
    "                      'Family_x':'Family_2017',\n",
    "                      'Health (Life Expectancy)_x':'Health (Life Expectancy)_2017',\n",
    "                      'Freedom_x':'Freedom_2017',\n",
    "                      'Trust (Government Corruption)_x':'Trust (Government Corruption)_2017',\n",
    "                      'Generosity_x':'Generosity_2017',\n",
    "                      'Dystopia Residual_x':'Dystopia Residual_2017',\n",
    "                      'Happiness Rank_y' : 'Happiness Rank_2018',\n",
    "                      'Happiness Score_y' : 'Happiness Score_2018',\n",
    "                      'GDP Per Capita_y':'GDP Per Capita_2018',\n",
    "                      'Family_y':'Family_2018',\n",
    "                      'Health (Life Expectancy)_y':'Health (Life Expectancy)_2018',\n",
    "                      'Freedom_y':'Freedom_2018',\n",
    "                      'Trust (Government Corruption)_y':'Trust (Government Corruption)_2018',\n",
    "                      'Generosity_y':'Generosity_2018',\n",
    "                      'Dystopia Residual_y':'Dystopia Residual_2018'}, inplace = True)\n",
    "newData = pd.merge(temp3,dataset_2019,on = 'Country')\n",
    "newData.drop('Region', inplace =True, axis =1)\n",
    "newData.rename(columns = {'Happiness Rank_x' : 'Happiness Rank_2018',\n",
    "                      'Happiness Score_x' : 'Happiness Score_2018',\n",
    "                      'GDP Per Capita_x':'GDP Per Capita_2018',\n",
    "                      'Family_x':'Family_2018',\n",
    "                      'Health (Life Expectancy)_x':'Health (Life Expectancy)_2018',\n",
    "                      'Freedom_x':'Freedom_2017',\n",
    "                      'Trust (Government Corruption)_x':'Trust (Government Corruption)_2018',\n",
    "                      'Generosity_x':'Generosity_2018',\n",
    "                      'Dystopia Residual_x':'Dystopia Residual_2018',\n",
    "                      'Happiness Rank' : 'Happiness Rank_2019',\n",
    "                      'Happiness Score' : 'Happiness Score_2019',\n",
    "                      'GDP Per Capita':'GDP Per Capita_2019',\n",
    "                      'Family':'Family_2019',\n",
    "                      'Health (Life Expectancy)':'Health (Life Expectancy)_2019',\n",
    "                      'Freedom':'Freedom_2019',\n",
    "                      'Trust (Government Corruption)':'Trust (Government Corruption)_2019',\n",
    "                      'Generosity':'Generosity_2019',\n",
    "                      'Dystopia Residual':'Dystopia Residual_2019',\n",
    "                       'Region_x':'Region'}, inplace = True)\n",
    "newData['Family_2018'] = newData[['Family_2015', 'Family_2016','Family_2017']].mean(axis=1)\n",
    "newData['Family_2019'] = newData[['Family_2015', 'Family_2016','Family_2017','Family_2018']].mean(axis=1)\n",
    "newData['Dystopia Residual_2018'] = newData[['Dystopia Residual_2015', 'Dystopia Residual_2016','Dystopia Residual_2017']].mean(axis=1)\n",
    "newData['Dystopia Residual_2019'] = newData[['Dystopia Residual_2015', 'Dystopia Residual_2016','Dystopia Residual_2017','Dystopia Residual_2018']].mean(axis=1)\n",
    "#newData.to_csv('data.csv')\n",
    "print(dataset_2015)\n",
    "#cleanYear(dataset_2019,Adict)\n",
    "#print(dataset_2015.head())\n",
    "#print(dataset_2016.head())\n",
    "#print(dataset_2017.tail())\n",
    "#print(dataset_2018.tail())\n",
    "#print(dataset_2019.tail())\n",
    "#print(Adict)\n",
    "#country_sort = dataset.sort_values(['Country','Year'])\n",
    "#print(country_sort)"
   ]
  },
  {
   "cell_type": "code",
   "execution_count": 15,
   "id": "f8af0a2a",
   "metadata": {},
   "outputs": [
    {
     "data": {
      "image/png": "[encoded data removed]",
      "text/plain": [
       "<Figure size 432x288 with 4 Axes>"
      ]
     },
     "metadata": {
      "needs_background": "light"
     },
     "output_type": "display_data"
    }
   ],
   "source": [
    "# Create a Figure and an array of subplots with 2 rows and 2 columns\n",
    "fig, ax = plt.subplots(3,2)\n",
    "\n",
    "# \n",
    "ax[0, 0].scatter(dataset_2015['Happiness Score'], dataset_2015['GDP Per Capita'])\n",
    "#\n",
    "ax[0, 1].plot(dataset_2015['Happiness Score'], dataset_2015['GDP Per Capita'])\n",
    "#\n",
    "ax[1,0].plot(dataset_2015['Happiness Score'], dataset_2015['GDP Per Capita'])\n",
    "#\n",
    "ax[1,1].plot(dataset_2015['Happiness Score'], dataset_2015['GDP Per Capita'])\n",
    "fig.delaxes(ax[2,0])\n",
    "fig.delaxes(ax[2,1])\n",
    "plt.show()"
   ]
  },
  {
   "cell_type": "code",
   "execution_count": 21,
   "id": "2b77c5b6",
   "metadata": {},
   "outputs": [
    {
     "ename": "KeyError",
     "evalue": "'False: boolean label can not be used without a boolean index'",
     "output_type": "error",
     "traceback": [
      "\u001b[1;31m---------------------------------------------------------------------------\u001b[0m",
      "\u001b[1;31mKeyError\u001b[0m                                  Traceback (most recent call last)",
      "Input \u001b[1;32mIn [21]\u001b[0m, in \u001b[0;36m<cell line: 2>\u001b[1;34m()\u001b[0m\n\u001b[0;32m      1\u001b[0m arr \u001b[38;5;241m=\u001b[39m np\u001b[38;5;241m.\u001b[39marray([\u001b[38;5;241m2015\u001b[39m, \u001b[38;5;241m2016\u001b[39m, \u001b[38;5;241m2017\u001b[39m, \u001b[38;5;241m2018\u001b[39m, \u001b[38;5;241m2019\u001b[39m])\n\u001b[1;32m----> 2\u001b[0m switz \u001b[38;5;241m=\u001b[39m \u001b[43mnewData\u001b[49m\u001b[38;5;241;43m.\u001b[39;49m\u001b[43mloc\u001b[49m\u001b[43m[\u001b[49m\u001b[38;5;124;43m'\u001b[39;49m\u001b[38;5;124;43mCountry\u001b[39;49m\u001b[38;5;124;43m'\u001b[39;49m\u001b[38;5;241;43m==\u001b[39;49m\u001b[38;5;124;43m'\u001b[39;49m\u001b[38;5;124;43mSwitzerland\u001b[39;49m\u001b[38;5;124;43m'\u001b[39;49m\u001b[43m]\u001b[49m\n",
      "File \u001b[1;32m~\\AppData\\Local\\Programs\\Python\\Python310\\lib\\site-packages\\pandas\\core\\indexing.py:931\u001b[0m, in \u001b[0;36m_LocationIndexer.__getitem__\u001b[1;34m(self, key)\u001b[0m\n\u001b[0;32m    928\u001b[0m axis \u001b[38;5;241m=\u001b[39m \u001b[38;5;28mself\u001b[39m\u001b[38;5;241m.\u001b[39maxis \u001b[38;5;129;01mor\u001b[39;00m \u001b[38;5;241m0\u001b[39m\n\u001b[0;32m    930\u001b[0m maybe_callable \u001b[38;5;241m=\u001b[39m com\u001b[38;5;241m.\u001b[39mapply_if_callable(key, \u001b[38;5;28mself\u001b[39m\u001b[38;5;241m.\u001b[39mobj)\n\u001b[1;32m--> 931\u001b[0m \u001b[38;5;28;01mreturn\u001b[39;00m \u001b[38;5;28;43mself\u001b[39;49m\u001b[38;5;241;43m.\u001b[39;49m\u001b[43m_getitem_axis\u001b[49m\u001b[43m(\u001b[49m\u001b[43mmaybe_callable\u001b[49m\u001b[43m,\u001b[49m\u001b[43m \u001b[49m\u001b[43maxis\u001b[49m\u001b[38;5;241;43m=\u001b[39;49m\u001b[43maxis\u001b[49m\u001b[43m)\u001b[49m\n",
      "File \u001b[1;32m~\\AppData\\Local\\Programs\\Python\\Python310\\lib\\site-packages\\pandas\\core\\indexing.py:1163\u001b[0m, in \u001b[0;36m_LocIndexer._getitem_axis\u001b[1;34m(self, key, axis)\u001b[0m\n\u001b[0;32m   1160\u001b[0m         \u001b[38;5;28;01mreturn\u001b[39;00m \u001b[38;5;28mself\u001b[39m\u001b[38;5;241m.\u001b[39mobj\u001b[38;5;241m.\u001b[39miloc[\u001b[38;5;28mtuple\u001b[39m(indexer)]\n\u001b[0;32m   1162\u001b[0m \u001b[38;5;66;03m# fall thru to straight lookup\u001b[39;00m\n\u001b[1;32m-> 1163\u001b[0m \u001b[38;5;28;43mself\u001b[39;49m\u001b[38;5;241;43m.\u001b[39;49m\u001b[43m_validate_key\u001b[49m\u001b[43m(\u001b[49m\u001b[43mkey\u001b[49m\u001b[43m,\u001b[49m\u001b[43m \u001b[49m\u001b[43maxis\u001b[49m\u001b[43m)\u001b[49m\n\u001b[0;32m   1164\u001b[0m \u001b[38;5;28;01mreturn\u001b[39;00m \u001b[38;5;28mself\u001b[39m\u001b[38;5;241m.\u001b[39m_get_label(key, axis\u001b[38;5;241m=\u001b[39maxis)\n",
      "File \u001b[1;32m~\\AppData\\Local\\Programs\\Python\\Python310\\lib\\site-packages\\pandas\\core\\indexing.py:972\u001b[0m, in \u001b[0;36m_LocIndexer._validate_key\u001b[1;34m(self, key, axis)\u001b[0m\n\u001b[0;32m    965\u001b[0m \u001b[38;5;129m@doc\u001b[39m(_LocationIndexer\u001b[38;5;241m.\u001b[39m_validate_key)\n\u001b[0;32m    966\u001b[0m \u001b[38;5;28;01mdef\u001b[39;00m \u001b[38;5;21m_validate_key\u001b[39m(\u001b[38;5;28mself\u001b[39m, key, axis: \u001b[38;5;28mint\u001b[39m):\n\u001b[0;32m    967\u001b[0m     \u001b[38;5;66;03m# valid for a collection of labels (we check their presence later)\u001b[39;00m\n\u001b[0;32m    968\u001b[0m     \u001b[38;5;66;03m# slice of labels (where start-end in labels)\u001b[39;00m\n\u001b[0;32m    969\u001b[0m     \u001b[38;5;66;03m# slice of integers (only if in the labels)\u001b[39;00m\n\u001b[0;32m    970\u001b[0m     \u001b[38;5;66;03m# boolean not in slice and with boolean index\u001b[39;00m\n\u001b[0;32m    971\u001b[0m     \u001b[38;5;28;01mif\u001b[39;00m \u001b[38;5;28misinstance\u001b[39m(key, \u001b[38;5;28mbool\u001b[39m) \u001b[38;5;129;01mand\u001b[39;00m \u001b[38;5;129;01mnot\u001b[39;00m is_bool_dtype(\u001b[38;5;28mself\u001b[39m\u001b[38;5;241m.\u001b[39mobj\u001b[38;5;241m.\u001b[39mindex):\n\u001b[1;32m--> 972\u001b[0m         \u001b[38;5;28;01mraise\u001b[39;00m \u001b[38;5;167;01mKeyError\u001b[39;00m(\n\u001b[0;32m    973\u001b[0m             \u001b[38;5;124mf\u001b[39m\u001b[38;5;124m\"\u001b[39m\u001b[38;5;132;01m{\u001b[39;00mkey\u001b[38;5;132;01m}\u001b[39;00m\u001b[38;5;124m: boolean label can not be used without a boolean index\u001b[39m\u001b[38;5;124m\"\u001b[39m\n\u001b[0;32m    974\u001b[0m         )\n\u001b[0;32m    976\u001b[0m     \u001b[38;5;28;01mif\u001b[39;00m \u001b[38;5;28misinstance\u001b[39m(key, \u001b[38;5;28mslice\u001b[39m) \u001b[38;5;129;01mand\u001b[39;00m (\n\u001b[0;32m    977\u001b[0m         \u001b[38;5;28misinstance\u001b[39m(key\u001b[38;5;241m.\u001b[39mstart, \u001b[38;5;28mbool\u001b[39m) \u001b[38;5;129;01mor\u001b[39;00m \u001b[38;5;28misinstance\u001b[39m(key\u001b[38;5;241m.\u001b[39mstop, \u001b[38;5;28mbool\u001b[39m)\n\u001b[0;32m    978\u001b[0m     ):\n\u001b[0;32m    979\u001b[0m         \u001b[38;5;28;01mraise\u001b[39;00m \u001b[38;5;167;01mTypeError\u001b[39;00m(\u001b[38;5;124mf\u001b[39m\u001b[38;5;124m\"\u001b[39m\u001b[38;5;132;01m{\u001b[39;00mkey\u001b[38;5;132;01m}\u001b[39;00m\u001b[38;5;124m: boolean values can not be used in a slice\u001b[39m\u001b[38;5;124m\"\u001b[39m)\n",
      "\u001b[1;31mKeyError\u001b[0m: 'False: boolean label can not be used without a boolean index'"
     ]
    }
   ],
   "source": [
    "arr = np.array([2015, 2016, 2017, 2018, 2019])\n",
    "switz = newData.loc['Country'=='Switzerland']"
   ]
  },
  {
   "cell_type": "code",
   "execution_count": null,
   "id": "844412ab",
   "metadata": {},
   "outputs": [],
   "source": []
  }
 ],
 "metadata": {
  "interpreter": {
   "hash": "b0fa6594d8f4cbf19f97940f81e996739fb7646882a419484c72d19e05852a7e"
  },
  "kernelspec": {
   "display_name": "Python 3 (ipykernel)",
   "language": "python",
   "name": "python3"
  },
  "language_info": {
   "codemirror_mode": {
    "name": "ipython",
    "version": 3
   },
   "file_extension": ".py",
   "mimetype": "text/x-python",
   "name": "python",
   "nbconvert_exporter": "python",
   "pygments_lexer": "ipython3",
   "version": "3.10.3"
  }
 },
 "nbformat": 4,
 "nbformat_minor": 5
}
