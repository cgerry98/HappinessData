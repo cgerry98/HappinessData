{
 "cells": [
  {
   "cell_type": "code",
   "execution_count": 1,
   "id": "be89f161",
   "metadata": {},
   "outputs": [
    {
     "name": "stdout",
     "output_type": "stream",
     "text": [
      "     Country  Region  Happiness Rank  Happiness Score  GDP Per Capita  Family  \\\n",
      "0      False   False           False            False           False   False   \n",
      "1      False   False           False            False           False   False   \n",
      "2      False   False           False            False           False   False   \n",
      "3      False   False           False            False           False   False   \n",
      "4      False   False           False            False           False   False   \n",
      "..       ...     ...             ...              ...             ...     ...   \n",
      "754     True   False           False            False           False    True   \n",
      "755     True   False           False            False           False    True   \n",
      "756     True   False           False            False           False    True   \n",
      "757     True   False           False            False           False    True   \n",
      "758     True   False           False            False           False    True   \n",
      "\n",
      "     Health (Life Expectancy)  Freedom  Trust (Government Corruption)  \\\n",
      "0                       False    False                          False   \n",
      "1                       False    False                          False   \n",
      "2                       False    False                          False   \n",
      "3                       False    False                          False   \n",
      "4                       False    False                          False   \n",
      "..                        ...      ...                            ...   \n",
      "754                     False    False                          False   \n",
      "755                     False    False                          False   \n",
      "756                     False    False                          False   \n",
      "757                     False    False                          False   \n",
      "758                     False    False                          False   \n",
      "\n",
      "     Generosity  Dystopia Residual   Year  \n",
      "0         False              False  False  \n",
      "1         False              False  False  \n",
      "2         False              False  False  \n",
      "3         False              False  False  \n",
      "4         False              False  False  \n",
      "..          ...                ...    ...  \n",
      "754       False               True  False  \n",
      "755       False               True  False  \n",
      "756       False               True  False  \n",
      "757       False               True  False  \n",
      "758       False               True  False  \n",
      "\n",
      "[759 rows x 12 columns]\n"
     ]
    }
   ],
   "source": [
    "import pandas as pd\n",
    "import matplotlib.pyplot as plt\n",
    "dataset = pd.read_csv('dataset_world_happiness.csv')\n",
    "findNA = dataset.isna()"
   ]
  },
  {
   "cell_type": "code",
   "execution_count": null,
   "id": "438f721e",
   "metadata": {},
   "outputs": [],
   "source": []
  },
  {
   "cell_type": "code",
   "execution_count": null,
   "id": "d0d72ac0",
   "metadata": {},
   "outputs": [],
   "source": []
  }
 ],
 "metadata": {
  "interpreter": {
   "hash": "b0fa6594d8f4cbf19f97940f81e996739fb7646882a419484c72d19e05852a7e"
  },
  "kernelspec": {
   "display_name": "Python 3 (ipykernel)",
   "language": "python",
   "name": "python3"
  },
  "language_info": {
   "codemirror_mode": {
    "name": "ipython",
    "version": 3
   },
   "file_extension": ".py",
   "mimetype": "text/x-python",
   "name": "python",
   "nbconvert_exporter": "python",
   "pygments_lexer": "ipython3",
   "version": "3.9.9"
  }
 },
 "nbformat": 4,
 "nbformat_minor": 5
}
